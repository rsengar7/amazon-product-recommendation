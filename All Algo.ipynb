{
 "cells": [
  {
   "cell_type": "code",
   "execution_count": 1,
   "id": "d9022b52-8ae4-4e25-9abf-91df1498e2ae",
   "metadata": {},
   "outputs": [
    {
     "name": "stdout",
     "output_type": "stream",
     "text": [
      "Collecting scikit-surprise\n",
      "  Downloading scikit-surprise-1.1.3.tar.gz (771 kB)\n",
      "\u001b[2K     \u001b[90m━━━━━━━━━━━━━━━━━━━━━━━━━━━━━━━━━━━━━━━\u001b[0m \u001b[32m772.0/772.0 kB\u001b[0m \u001b[31m5.5 MB/s\u001b[0m eta \u001b[36m0:00:00\u001b[0ma \u001b[36m0:00:01\u001b[0m\n",
      "\u001b[?25h  Preparing metadata (setup.py) ... \u001b[?25ldone\n",
      "\u001b[?25hRequirement already satisfied: joblib>=1.0.0 in /Users/riteshsengar/anaconda3/lib/python3.11/site-packages (from scikit-surprise) (1.2.0)\n",
      "Requirement already satisfied: numpy>=1.17.3 in /Users/riteshsengar/anaconda3/lib/python3.11/site-packages (from scikit-surprise) (1.24.3)\n",
      "Requirement already satisfied: scipy>=1.3.2 in /Users/riteshsengar/anaconda3/lib/python3.11/site-packages (from scikit-surprise) (1.11.1)\n",
      "Building wheels for collected packages: scikit-surprise\n",
      "  Building wheel for scikit-surprise (setup.py) ... \u001b[?25ldone\n",
      "\u001b[?25h  Created wheel for scikit-surprise: filename=scikit_surprise-1.1.3-cp311-cp311-macosx_10_9_x86_64.whl size=1116811 sha256=6f84e470c628ea27f1650eb7e3424c481fbfec686eeb47f62df6c74c5366401a\n",
      "  Stored in directory: /Users/riteshsengar/Library/Caches/pip/wheels/f4/2b/26/e2a5eae55d3b7688995e66abe7f40473aac6c95ddd8ee174a8\n",
      "Successfully built scikit-surprise\n",
      "Installing collected packages: scikit-surprise\n",
      "Successfully installed scikit-surprise-1.1.3\n"
     ]
    }
   ],
   "source": [
    "!pip install scikit-surprise"
   ]
  },
  {
   "cell_type": "code",
   "execution_count": 5,
   "id": "41e311b5",
   "metadata": {},
   "outputs": [
    {
     "name": "stdout",
     "output_type": "stream",
     "text": [
      "Requirement already satisfied: scipy in /Users/riteshsengar/anaconda3/lib/python3.11/site-packages (1.11.1)\r\n",
      "Requirement already satisfied: numpy<1.28.0,>=1.21.6 in /Users/riteshsengar/anaconda3/lib/python3.11/site-packages (from scipy) (1.24.3)\r\n"
     ]
    }
   ],
   "source": [
    "!pip install scipy"
   ]
  },
  {
   "cell_type": "code",
   "execution_count": 1,
   "id": "50d8e502-17fb-4c09-8918-4709c746cd9e",
   "metadata": {},
   "outputs": [],
   "source": [
    "import pandas as pd\n",
    "import numpy as np\n",
    "from scipy.sparse import csr_matrix, coo_matrix\n",
    "from sklearn.model_selection import train_test_split\n",
    "from sklearn.neighbors import NearestNeighbors\n",
    "from scipy.sparse.linalg import svds\n",
    "from sklearn.decomposition import NMF\n",
    "from sklearn.model_selection import train_test_split\n",
    "from sklearn.metrics import mean_squared_error\n"
   ]
  },
  {
   "cell_type": "code",
   "execution_count": 2,
   "id": "3f813981-ee55-4f02-9373-693dac8b6cf0",
   "metadata": {},
   "outputs": [
    {
     "data": {
      "text/html": [
       "<div>\n",
       "<style scoped>\n",
       "    .dataframe tbody tr th:only-of-type {\n",
       "        vertical-align: middle;\n",
       "    }\n",
       "\n",
       "    .dataframe tbody tr th {\n",
       "        vertical-align: top;\n",
       "    }\n",
       "\n",
       "    .dataframe thead th {\n",
       "        text-align: right;\n",
       "    }\n",
       "</style>\n",
       "<table border=\"1\" class=\"dataframe\">\n",
       "  <thead>\n",
       "    <tr style=\"text-align: right;\">\n",
       "      <th></th>\n",
       "      <th>asin</th>\n",
       "      <th>overall</th>\n",
       "      <th>reviewerID</th>\n",
       "    </tr>\n",
       "  </thead>\n",
       "  <tbody>\n",
       "    <tr>\n",
       "      <th>0</th>\n",
       "      <td>073530498X</td>\n",
       "      <td>4</td>\n",
       "      <td>A3VVMIMMTYQV5F</td>\n",
       "    </tr>\n",
       "    <tr>\n",
       "      <th>1</th>\n",
       "      <td>073530498X</td>\n",
       "      <td>5</td>\n",
       "      <td>A1XSPKZ8HHSBX2</td>\n",
       "    </tr>\n",
       "    <tr>\n",
       "      <th>2</th>\n",
       "      <td>073530498X</td>\n",
       "      <td>5</td>\n",
       "      <td>A2ZEQ0WBLNQN7O</td>\n",
       "    </tr>\n",
       "    <tr>\n",
       "      <th>3</th>\n",
       "      <td>073530498X</td>\n",
       "      <td>5</td>\n",
       "      <td>A2IC3RIPB6HKSQ</td>\n",
       "    </tr>\n",
       "    <tr>\n",
       "      <th>4</th>\n",
       "      <td>073530498X</td>\n",
       "      <td>5</td>\n",
       "      <td>A1JHNR71TPEETW</td>\n",
       "    </tr>\n",
       "  </tbody>\n",
       "</table>\n",
       "</div>"
      ],
      "text/plain": [
       "         asin  overall      reviewerID\n",
       "0  073530498X        4  A3VVMIMMTYQV5F\n",
       "1  073530498X        5  A1XSPKZ8HHSBX2\n",
       "2  073530498X        5  A2ZEQ0WBLNQN7O\n",
       "3  073530498X        5  A2IC3RIPB6HKSQ\n",
       "4  073530498X        5  A1JHNR71TPEETW"
      ]
     },
     "execution_count": 2,
     "metadata": {},
     "output_type": "execute_result"
    }
   ],
   "source": [
    "df = pd.read_csv(\"selected_item_based.csv\")\n",
    "df = df.drop(\"Unnamed: 0\", axis=1)\n",
    "df.head()"
   ]
  },
  {
   "cell_type": "code",
   "execution_count": 2,
   "id": "0ccd65f5",
   "metadata": {},
   "outputs": [],
   "source": [
    "from surprise import accuracy\n",
    "from surprise import *\n",
    "from surprise import Dataset\n",
    "from surprise.model_selection import cross_validate\n",
    "from surprise import Reader\n",
    "import pandas as pd\n",
    "\n",
    "# Load the data from a CSV file\n",
    "df = pd.read_csv(\"selected_item_based.csv\")\n",
    "ratings = df.drop(\"Unnamed: 0\", axis=1)\n",
    "ratings.head()\n",
    "\n",
    "# Make sure the data is clean\n",
    "ratings = ratings.dropna()\n",
    "ratings = ratings.drop_duplicates()\n",
    "\n",
    "# Define a reader with the rating scale\n",
    "reader = Reader(rating_scale=(1, 5))  # Assuming the ratings are from 1 to 5\n",
    "\n",
    "# Load the data from the DataFrame into the surprise dataset\n",
    "data = Dataset.load_from_df(ratings[['reviewerID', 'asin', 'overall']], reader)"
   ]
  },
  {
   "cell_type": "code",
   "execution_count": 8,
   "id": "665312dd",
   "metadata": {},
   "outputs": [
    {
     "name": "stdout",
     "output_type": "stream",
     "text": [
      "Evaluating RMSE, MAE of algorithm SVD on 5 split(s).\n",
      "\n",
      "                  Fold 1  Fold 2  Fold 3  Fold 4  Fold 5  Mean    Std     \n",
      "RMSE (testset)    1.0699  1.0715  1.0702  1.0638  1.0723  1.0695  0.0030  \n",
      "MAE (testset)     0.7887  0.7896  0.7900  0.7859  0.7915  0.7891  0.0019  \n",
      "Fit time          10.54   10.07   10.07   10.15   10.39   10.24   0.19    \n",
      "Test time         1.22    1.17    1.50    1.25    1.17    1.26    0.12    \n",
      "Test RSME :  1.069533391143529\n",
      "Test MAE :  0.789116349337084\n",
      "****************************************************************************************************\n",
      "\n"
     ]
    }
   ],
   "source": [
    "# Choose a recommendation algorithm, here SVD is chosen\n",
    "algo = SVD()\n",
    "\n",
    "# Run 5-fold cross-validation and print results\n",
    "results = cross_validate(algo, data, measures=['RMSE', 'MAE'], cv=5, verbose=True)\n",
    "\n",
    "print(\"Test RSME : \",results['test_rmse'].mean())\n",
    "print(\"Test MAE : \",results['test_mae'].mean())\n",
    "print(\"*\"*100)\n",
    "print()\n",
    "\n",
    "import pickle\n",
    "\n",
    "pickle.dump(model, \"model.p\")"
   ]
  },
  {
   "cell_type": "code",
   "execution_count": 9,
   "id": "ec4db3df",
   "metadata": {},
   "outputs": [
    {
     "name": "stdout",
     "output_type": "stream",
     "text": [
      "Evaluating RMSE, MAE of algorithm NMF on 5 split(s).\n",
      "\n",
      "                  Fold 1  Fold 2  Fold 3  Fold 4  Fold 5  Mean    Std     \n",
      "RMSE (testset)    1.2658  1.2656  1.2738  1.2653  1.2638  1.2669  0.0035  \n",
      "MAE (testset)     0.9644  0.9647  0.9703  0.9661  0.9627  0.9656  0.0026  \n",
      "Fit time          45.67   34.19   35.91   33.84   32.71   36.46   4.72    \n",
      "Test time         1.30    1.00    1.39    1.19    0.91    1.16    0.18    \n",
      "Test RSME :  1.2668602920201608\n",
      "Test MAE :  0.9656349440675184\n",
      "****************************************************************************************************\n",
      "\n"
     ]
    }
   ],
   "source": [
    "algo = NMF()\n",
    "\n",
    "# Run 5-fold cross-validation and print results\n",
    "results = cross_validate(algo, data, measures=['RMSE', 'MAE'], cv=5, verbose=True)\n",
    "\n",
    "print(\"Test RSME : \",results['test_rmse'].mean())\n",
    "print(\"Test MAE : \",results['test_mae'].mean())\n",
    "print(\"*\"*100)\n",
    "print()"
   ]
  },
  {
   "cell_type": "code",
   "execution_count": 3,
   "id": "bf662288",
   "metadata": {},
   "outputs": [
    {
     "name": "stdout",
     "output_type": "stream",
     "text": [
      "Evaluating RMSE, MAE of algorithm NormalPredictor on 5 split(s).\n",
      "\n",
      "                  Fold 1  Fold 2  Fold 3  Fold 4  Fold 5  Mean    Std     \n",
      "RMSE (testset)    1.4625  1.4661  1.4585  1.4588  1.4626  1.4617  0.0028  \n",
      "MAE (testset)     1.0778  1.0788  1.0736  1.0747  1.0766  1.0763  0.0019  \n",
      "Fit time          0.73    0.88    0.93    0.90    0.92    0.87    0.07    \n",
      "Test time         0.89    1.26    0.78    0.81    0.57    0.86    0.23    \n",
      "Test RSME :  1.4617076013325963\n",
      "Test MAE :  1.07631548618996\n",
      "****************************************************************************************************\n",
      "\n"
     ]
    }
   ],
   "source": [
    "algo = NormalPredictor()\n",
    "\n",
    "# Run 5-fold cross-validation and print results\n",
    "results = cross_validate(algo, data, measures=['RMSE', 'MAE'], cv=5, verbose=True)\n",
    "\n",
    "print(\"Test RSME : \",results['test_rmse'].mean())\n",
    "print(\"Test MAE : \",results['test_mae'].mean())\n",
    "print(\"*\"*100)\n",
    "print()"
   ]
  },
  {
   "cell_type": "code",
   "execution_count": 4,
   "id": "002ded8f",
   "metadata": {},
   "outputs": [
    {
     "name": "stdout",
     "output_type": "stream",
     "text": [
      "Evaluating RMSE, MAE of algorithm CoClustering on 5 split(s).\n",
      "\n",
      "                  Fold 1  Fold 2  Fold 3  Fold 4  Fold 5  Mean    Std     \n",
      "RMSE (testset)    1.1846  1.1787  1.1932  1.1952  1.1961  1.1896  0.0068  \n",
      "MAE (testset)     0.7950  0.7912  0.8006  0.8026  0.8036  0.7986  0.0048  \n",
      "Fit time          32.19   31.27   32.18   33.54   35.97   33.03   1.64    \n",
      "Test time         1.05    0.65    0.68    1.00    1.15    0.91    0.20    \n",
      "Test RSME :  1.1895655174265356\n",
      "Test MAE :  0.7985863689607413\n",
      "****************************************************************************************************\n",
      "\n"
     ]
    }
   ],
   "source": [
    "algo = CoClustering()\n",
    "\n",
    "# Run 5-fold cross-validation and print results\n",
    "results = cross_validate(algo, data, measures=['RMSE', 'MAE'], cv=5, verbose=True)\n",
    "\n",
    "print(\"Test RSME : \",results['test_rmse'].mean())\n",
    "print(\"Test MAE : \",results['test_mae'].mean())\n",
    "print(\"*\"*100)\n",
    "print()"
   ]
  },
  {
   "cell_type": "code",
   "execution_count": 5,
   "id": "2274eb06",
   "metadata": {},
   "outputs": [
    {
     "name": "stdout",
     "output_type": "stream",
     "text": [
      "Estimating biases using als...\n",
      "Estimating biases using als...\n",
      "Estimating biases using als...\n",
      "Estimating biases using als...\n",
      "Estimating biases using als...\n",
      "Evaluating RMSE, MAE of algorithm BaselineOnly on 5 split(s).\n",
      "\n",
      "                  Fold 1  Fold 2  Fold 3  Fold 4  Fold 5  Mean    Std     \n",
      "RMSE (testset)    1.0754  1.0721  1.0726  1.0776  1.0781  1.0752  0.0025  \n",
      "MAE (testset)     0.8050  0.8025  0.8029  0.8055  0.8068  0.8045  0.0016  \n",
      "Fit time          3.71    3.75    3.79    3.91    3.94    3.82    0.09    \n",
      "Test time         0.90    0.99    0.61    0.59    0.89    0.80    0.16    \n",
      "Test RSME :  1.0751596069329166\n",
      "Test MAE :  0.8045472222951477\n",
      "****************************************************************************************************\n",
      "\n"
     ]
    }
   ],
   "source": [
    "algo = BaselineOnly()\n",
    "\n",
    "# Run 5-fold cross-validation and print results\n",
    "results = cross_validate(algo, data, measures=['RMSE', 'MAE'], cv=5, verbose=True)\n",
    "\n",
    "print(\"Test RSME : \",results['test_rmse'].mean())\n",
    "print(\"Test MAE : \",results['test_mae'].mean())\n",
    "print(\"*\"*100)\n",
    "print()"
   ]
  },
  {
   "cell_type": "code",
   "execution_count": 6,
   "id": "3f7b3c39",
   "metadata": {},
   "outputs": [
    {
     "name": "stdout",
     "output_type": "stream",
     "text": [
      "Evaluating RMSE, MAE of algorithm SlopeOne on 5 split(s).\n",
      "\n",
      "                  Fold 1  Fold 2  Fold 3  Fold 4  Fold 5  Mean    Std     \n",
      "RMSE (testset)    1.2457  1.2438  1.2462  1.2441  1.2450  1.2450  0.0009  \n",
      "MAE (testset)     0.8418  0.8402  0.8433  0.8408  0.8402  0.8412  0.0012  \n",
      "Fit time          7.78    8.46    8.13    8.45    8.34    8.23    0.25    \n",
      "Test time         1.88    1.41    1.76    1.71    1.80    1.71    0.16    \n",
      "Test RSME :  1.2449567778500819\n",
      "Test MAE :  0.8412318466998594\n",
      "****************************************************************************************************\n",
      "\n"
     ]
    }
   ],
   "source": [
    "algo = SlopeOne()\n",
    "\n",
    "# Run 5-fold cross-validation and print results\n",
    "results = cross_validate(algo, data, measures=['RMSE', 'MAE'], cv=5, verbose=True)\n",
    "\n",
    "print(\"Test RSME : \",results['test_rmse'].mean())\n",
    "print(\"Test MAE : \",results['test_mae'].mean())\n",
    "print(\"*\"*100)\n",
    "print()"
   ]
  },
  {
   "cell_type": "code",
   "execution_count": null,
   "id": "473c9c1c",
   "metadata": {},
   "outputs": [],
   "source": [
    "# Not able to compute completely and system get restarted or instance get terminated before completing the training of the system\n",
    "\n",
    "# algo = KNNBasic()\n",
    "\n",
    "# # Run 5-fold cross-validation and print results\n",
    "# results = cross_validate(algo, data, measures=['RMSE', 'MAE'], cv=5, verbose=True)\n",
    "\n",
    "# print(\"Test RSME : \",results['test_rmse'].mean())\n",
    "# print(\"Test MAE : \",results['test_mae'].mean())\n",
    "# print(\"*\"*100)\n",
    "# print()"
   ]
  },
  {
   "cell_type": "code",
   "execution_count": 3,
   "id": "330b9446-cf64-4575-85ce-7f04ddb446b4",
   "metadata": {},
   "outputs": [
    {
     "name": "stderr",
     "output_type": "stream",
     "text": [
      "/var/folders/d9/38d01fms6l33ty3q2_t8jtj40000gn/T/ipykernel_1040/296555971.py:21: SettingWithCopyWarning: \n",
      "A value is trying to be set on a copy of a slice from a DataFrame.\n",
      "Try using .loc[row_indexer,col_indexer] = value instead\n",
      "\n",
      "See the caveats in the documentation: https://pandas.pydata.org/pandas-docs/stable/user_guide/indexing.html#returning-a-view-versus-a-copy\n",
      "  dfCount[\"user_id\"] = dfCount[\"reviewerID\"].apply(lambda x: reviewer_data[x]).astype(int)\n",
      "/var/folders/d9/38d01fms6l33ty3q2_t8jtj40000gn/T/ipykernel_1040/296555971.py:22: SettingWithCopyWarning: \n",
      "A value is trying to be set on a copy of a slice from a DataFrame.\n",
      "Try using .loc[row_indexer,col_indexer] = value instead\n",
      "\n",
      "See the caveats in the documentation: https://pandas.pydata.org/pandas-docs/stable/user_guide/indexing.html#returning-a-view-versus-a-copy\n",
      "  dfCount[\"item_id\"] = dfCount[\"asin\"].apply(lambda x: asin_data[x]).astype(int)\n"
     ]
    },
    {
     "data": {
      "text/html": [
       "<div>\n",
       "<style scoped>\n",
       "    .dataframe tbody tr th:only-of-type {\n",
       "        vertical-align: middle;\n",
       "    }\n",
       "\n",
       "    .dataframe tbody tr th {\n",
       "        vertical-align: top;\n",
       "    }\n",
       "\n",
       "    .dataframe thead th {\n",
       "        text-align: right;\n",
       "    }\n",
       "</style>\n",
       "<table border=\"1\" class=\"dataframe\">\n",
       "  <thead>\n",
       "    <tr style=\"text-align: right;\">\n",
       "      <th></th>\n",
       "      <th>user_id</th>\n",
       "      <th>item_id</th>\n",
       "      <th>user_rating</th>\n",
       "      <th>totalReviewers</th>\n",
       "    </tr>\n",
       "  </thead>\n",
       "  <tbody>\n",
       "    <tr>\n",
       "      <th>16387</th>\n",
       "      <td>1</td>\n",
       "      <td>1</td>\n",
       "      <td>3</td>\n",
       "      <td>4531</td>\n",
       "    </tr>\n",
       "    <tr>\n",
       "      <th>10717</th>\n",
       "      <td>2</td>\n",
       "      <td>2</td>\n",
       "      <td>5</td>\n",
       "      <td>4531</td>\n",
       "    </tr>\n",
       "    <tr>\n",
       "      <th>10704</th>\n",
       "      <td>3</td>\n",
       "      <td>2</td>\n",
       "      <td>5</td>\n",
       "      <td>4531</td>\n",
       "    </tr>\n",
       "    <tr>\n",
       "      <th>10705</th>\n",
       "      <td>4</td>\n",
       "      <td>2</td>\n",
       "      <td>4</td>\n",
       "      <td>4531</td>\n",
       "    </tr>\n",
       "    <tr>\n",
       "      <th>10706</th>\n",
       "      <td>5</td>\n",
       "      <td>2</td>\n",
       "      <td>5</td>\n",
       "      <td>4531</td>\n",
       "    </tr>\n",
       "  </tbody>\n",
       "</table>\n",
       "</div>"
      ],
      "text/plain": [
       "       user_id  item_id  user_rating  totalReviewers\n",
       "16387        1        1            3            4531\n",
       "10717        2        2            5            4531\n",
       "10704        3        2            5            4531\n",
       "10705        4        2            4            4531\n",
       "10706        5        2            5            4531"
      ]
     },
     "execution_count": 3,
     "metadata": {},
     "output_type": "execute_result"
    }
   ],
   "source": [
    "count = df.groupby(\"asin\", as_index=False)[\"overall\"].count()\n",
    "\n",
    "df1 = pd.merge(df, count, how='right', on=['asin'])\n",
    "df1.head()\n",
    "\n",
    "df1 = df1.rename(columns = {\"overall_y\" : \"totalReviewers\", \"overall_x\": \"user_rating\"})\n",
    "# df1.reset_index(drop=True, inplace=True)\n",
    "df1.head()\n",
    "\n",
    "df1 = df1.sort_values(by='totalReviewers', ascending=False)\n",
    "dfCount = df1[df1.totalReviewers >= 50]\n",
    "dfCount.head()\n",
    "\n",
    "len(dfCount.reviewerID.unique())\n",
    "\n",
    "reviewer_data = {id: index+1 for index, id in enumerate(dfCount.reviewerID.unique())}\n",
    "reviewer_data\n",
    "\n",
    "asin_data = {id: index+1 for index, id in enumerate(dfCount.asin.unique())}\n",
    "\n",
    "dfCount[\"user_id\"] = dfCount[\"reviewerID\"].apply(lambda x: reviewer_data[x]).astype(int)\n",
    "dfCount[\"item_id\"] = dfCount[\"asin\"].apply(lambda x: asin_data[x]).astype(int)\n",
    "dfCount.head()\n",
    "\n",
    "df_filter = dfCount[[\"user_id\", \"item_id\", \"user_rating\", \"totalReviewers\"]]\n",
    "df_filter.head()"
   ]
  },
  {
   "cell_type": "code",
   "execution_count": 4,
   "id": "e6b8979a-166b-4746-bdc2-80e305644a0b",
   "metadata": {},
   "outputs": [
    {
     "name": "stdout",
     "output_type": "stream",
     "text": [
      "Original rating matrix :  [[3. 3. 3. ... 0. 0. 0.]\n",
      " [5. 5. 5. ... 0. 0. 0.]\n",
      " [5. 5. 5. ... 0. 0. 0.]\n",
      " ...\n",
      " [0. 0. 0. ... 0. 0. 0.]\n",
      " [0. 0. 0. ... 0. 0. 0.]\n",
      " [0. 0. 0. ... 0. 0. 0.]]\n"
     ]
    }
   ],
   "source": [
    "n_users = df_filter.user_id.unique().shape[0]\n",
    "n_items = df_filter.item_id.unique().shape[0]\n",
    "n_items = df_filter['item_id'].max()\n",
    "A = np.zeros((n_users,n_items))\n",
    "for line in df_filter.itertuples():\n",
    "    A[line[1]-1,line[2]-1] = line[3]\n",
    "    \n",
    "print(\"Original rating matrix : \",A)"
   ]
  },
  {
   "cell_type": "code",
   "execution_count": 5,
   "id": "b0169ffe-52e5-45f4-83a3-8e4f61b8b975",
   "metadata": {},
   "outputs": [],
   "source": [
    "train_data, test_data = train_test_split(A, test_size=0.2, random_state=42)"
   ]
  },
  {
   "cell_type": "code",
   "execution_count": 6,
   "id": "db01b05e-f6f3-4054-9e50-a45c5b1fb648",
   "metadata": {},
   "outputs": [],
   "source": [
    "def calculate_item_differences(user_item_matrix):\n",
    "    item_diff = {}\n",
    "    for item1 in range(user_item_matrix.shape[1]):\n",
    "        item_diff[item1] = {}\n",
    "        for item2 in range(user_item_matrix.shape[1]):\n",
    "            common_users = np.where(np.logical_and(user_item_matrix[:, item1] > 0, user_item_matrix[:, item2] > 0))\n",
    "            if len(common_users[0]) > 0:\n",
    "                diff = user_item_matrix[common_users, item1] - user_item_matrix[common_users, item2]\n",
    "                item_diff[item1][item2] = np.mean(diff)\n",
    "    return item_diff\n",
    "\n",
    "def predict_ratings(train_data, item_diff):\n",
    "    predicted_ratings = np.zeros_like(train_data, dtype=float)\n",
    "    for user in range(train_data.shape[0]):\n",
    "        for item in range(train_data.shape[1]):\n",
    "            if train_data[user, item] == 0:\n",
    "                item_ratings = train_data[:, item]\n",
    "                common_users = np.where(item_ratings > 0)\n",
    "                if len(common_users[0]) > 0:\n",
    "                    predicted_ratings[user, item] = np.mean([train_data[user, item] + item_diff[item][i] for i in common_users[0]])\n",
    "    return predicted_ratings\n"
   ]
  },
  {
   "cell_type": "code",
   "execution_count": null,
   "id": "9610ea14-dc9d-4562-9c59-08caa617523b",
   "metadata": {},
   "outputs": [],
   "source": [
    "predicted_ratings = predict_ratings(train_data, calculate_item_differences(A))\n",
    "predicted_ratings.shape"
   ]
  },
  {
   "cell_type": "code",
   "execution_count": null,
   "id": "672c1817-3176-49b3-83ba-331fa549b43a",
   "metadata": {},
   "outputs": [],
   "source": [
    "mse = mean_squared_error(test_data[test_data > 0], predicted_ratings[test_data > 0])\n",
    "mse"
   ]
  }
 ],
 "metadata": {
  "kernelspec": {
   "display_name": "Python 3 (ipykernel)",
   "language": "python",
   "name": "python3"
  },
  "language_info": {
   "codemirror_mode": {
    "name": "ipython",
    "version": 3
   },
   "file_extension": ".py",
   "mimetype": "text/x-python",
   "name": "python",
   "nbconvert_exporter": "python",
   "pygments_lexer": "ipython3",
   "version": "3.11.5"
  }
 },
 "nbformat": 4,
 "nbformat_minor": 5
}
