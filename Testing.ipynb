{
 "cells": [
  {
   "cell_type": "code",
   "execution_count": 2,
   "id": "ace55d2f",
   "metadata": {},
   "outputs": [],
   "source": [
    "from surprise import accuracy\n",
    "from surprise import *\n",
    "from surprise import Dataset\n",
    "from surprise.model_selection import cross_validate\n",
    "from surprise import Reader\n",
    "import pandas as pd\n",
    "from surprise import NMF\n",
    "from surprise.model_selection import train_test_split\n",
    "from surprise import accuracy\n",
    "from collections import defaultdict"
   ]
  },
  {
   "cell_type": "code",
   "execution_count": 3,
   "id": "3e182158",
   "metadata": {},
   "outputs": [
    {
     "data": {
      "text/html": [
       "<div>\n",
       "<style scoped>\n",
       "    .dataframe tbody tr th:only-of-type {\n",
       "        vertical-align: middle;\n",
       "    }\n",
       "\n",
       "    .dataframe tbody tr th {\n",
       "        vertical-align: top;\n",
       "    }\n",
       "\n",
       "    .dataframe thead th {\n",
       "        text-align: right;\n",
       "    }\n",
       "</style>\n",
       "<table border=\"1\" class=\"dataframe\">\n",
       "  <thead>\n",
       "    <tr style=\"text-align: right;\">\n",
       "      <th></th>\n",
       "      <th>asin</th>\n",
       "      <th>overall</th>\n",
       "      <th>reviewerID</th>\n",
       "    </tr>\n",
       "  </thead>\n",
       "  <tbody>\n",
       "    <tr>\n",
       "      <th>0</th>\n",
       "      <td>073530498X</td>\n",
       "      <td>4</td>\n",
       "      <td>A3VVMIMMTYQV5F</td>\n",
       "    </tr>\n",
       "    <tr>\n",
       "      <th>1</th>\n",
       "      <td>073530498X</td>\n",
       "      <td>5</td>\n",
       "      <td>A1XSPKZ8HHSBX2</td>\n",
       "    </tr>\n",
       "    <tr>\n",
       "      <th>2</th>\n",
       "      <td>073530498X</td>\n",
       "      <td>5</td>\n",
       "      <td>A2ZEQ0WBLNQN7O</td>\n",
       "    </tr>\n",
       "    <tr>\n",
       "      <th>3</th>\n",
       "      <td>073530498X</td>\n",
       "      <td>5</td>\n",
       "      <td>A2IC3RIPB6HKSQ</td>\n",
       "    </tr>\n",
       "    <tr>\n",
       "      <th>4</th>\n",
       "      <td>073530498X</td>\n",
       "      <td>5</td>\n",
       "      <td>A1JHNR71TPEETW</td>\n",
       "    </tr>\n",
       "  </tbody>\n",
       "</table>\n",
       "</div>"
      ],
      "text/plain": [
       "         asin  overall      reviewerID\n",
       "0  073530498X        4  A3VVMIMMTYQV5F\n",
       "1  073530498X        5  A1XSPKZ8HHSBX2\n",
       "2  073530498X        5  A2ZEQ0WBLNQN7O\n",
       "3  073530498X        5  A2IC3RIPB6HKSQ\n",
       "4  073530498X        5  A1JHNR71TPEETW"
      ]
     },
     "execution_count": 3,
     "metadata": {},
     "output_type": "execute_result"
    }
   ],
   "source": [
    "# Load the data from a CSV file\n",
    "df = pd.read_csv(\"selected_item_based.csv\")\n",
    "ratings = df.drop(\"Unnamed: 0\", axis=1)\n",
    "ratings.head()"
   ]
  },
  {
   "cell_type": "code",
   "execution_count": 4,
   "id": "5f1f0dfe",
   "metadata": {},
   "outputs": [
    {
     "data": {
      "text/plain": [
       "<surprise.prediction_algorithms.matrix_factorization.SVD at 0x139958dd0>"
      ]
     },
     "execution_count": 4,
     "metadata": {},
     "output_type": "execute_result"
    }
   ],
   "source": [
    "# Define a reader with the rating scale\n",
    "reader = Reader(rating_scale=(1, 5))  # Assuming the ratings are from 1 to 5\n",
    "\n",
    "# Load the data from the DataFrame into the surprise dataset\n",
    "dataset = Dataset.load_from_df(ratings[['reviewerID', 'asin', 'overall']], reader)\n",
    "\n",
    "model = SVD()\n",
    "\n",
    "model.fit(dataset.build_full_trainset())\n",
    "\n",
    "# import pickle\n",
    "\n",
    "# with open('Model/svd_model.pkl', 'wb') as f:\n",
    "#     pickle.dump(model, f)"
   ]
  },
  {
   "cell_type": "code",
   "execution_count": 5,
   "id": "f9d557f9",
   "metadata": {},
   "outputs": [
    {
     "data": {
      "text/html": [
       "<div>\n",
       "<style scoped>\n",
       "    .dataframe tbody tr th:only-of-type {\n",
       "        vertical-align: middle;\n",
       "    }\n",
       "\n",
       "    .dataframe tbody tr th {\n",
       "        vertical-align: top;\n",
       "    }\n",
       "\n",
       "    .dataframe thead th {\n",
       "        text-align: right;\n",
       "    }\n",
       "</style>\n",
       "<table border=\"1\" class=\"dataframe\">\n",
       "  <thead>\n",
       "    <tr style=\"text-align: right;\">\n",
       "      <th></th>\n",
       "      <th>asin</th>\n",
       "      <th>overall</th>\n",
       "      <th>reviewerID</th>\n",
       "    </tr>\n",
       "  </thead>\n",
       "  <tbody>\n",
       "    <tr>\n",
       "      <th>1</th>\n",
       "      <td>073530498X</td>\n",
       "      <td>5</td>\n",
       "      <td>A1XSPKZ8HHSBX2</td>\n",
       "    </tr>\n",
       "  </tbody>\n",
       "</table>\n",
       "</div>"
      ],
      "text/plain": [
       "         asin  overall      reviewerID\n",
       "1  073530498X        5  A1XSPKZ8HHSBX2"
      ]
     },
     "execution_count": 5,
     "metadata": {},
     "output_type": "execute_result"
    }
   ],
   "source": [
    "rr = ratings[ratings['reviewerID'] == \"A1XSPKZ8HHSBX2\"].sort_values(by=\"overall\", ascending=False)\n",
    "rr"
   ]
  },
  {
   "cell_type": "code",
   "execution_count": 10,
   "id": "41c811b3",
   "metadata": {},
   "outputs": [
    {
     "data": {
      "text/html": [
       "<div>\n",
       "<style scoped>\n",
       "    .dataframe tbody tr th:only-of-type {\n",
       "        vertical-align: middle;\n",
       "    }\n",
       "\n",
       "    .dataframe tbody tr th {\n",
       "        vertical-align: top;\n",
       "    }\n",
       "\n",
       "    .dataframe thead th {\n",
       "        text-align: right;\n",
       "    }\n",
       "</style>\n",
       "<table border=\"1\" class=\"dataframe\">\n",
       "  <thead>\n",
       "    <tr style=\"text-align: right;\">\n",
       "      <th></th>\n",
       "      <th>uid</th>\n",
       "      <th>iid</th>\n",
       "      <th>r_ui</th>\n",
       "      <th>est</th>\n",
       "      <th>details</th>\n",
       "    </tr>\n",
       "  </thead>\n",
       "  <tbody>\n",
       "    <tr>\n",
       "      <th>0</th>\n",
       "      <td>A1XSPKZ8HHSBX2</td>\n",
       "      <td>073530498X</td>\n",
       "      <td>3</td>\n",
       "      <td>4.551520</td>\n",
       "      <td>{'was_impossible': False}</td>\n",
       "    </tr>\n",
       "    <tr>\n",
       "      <th>1</th>\n",
       "      <td>A1XSPKZ8HHSBX2</td>\n",
       "      <td>1934148644</td>\n",
       "      <td>3</td>\n",
       "      <td>4.474340</td>\n",
       "      <td>{'was_impossible': False}</td>\n",
       "    </tr>\n",
       "    <tr>\n",
       "      <th>2</th>\n",
       "      <td>A1XSPKZ8HHSBX2</td>\n",
       "      <td>1934148423</td>\n",
       "      <td>3</td>\n",
       "      <td>4.019030</td>\n",
       "      <td>{'was_impossible': False}</td>\n",
       "    </tr>\n",
       "    <tr>\n",
       "      <th>3</th>\n",
       "      <td>A1XSPKZ8HHSBX2</td>\n",
       "      <td>1934148075</td>\n",
       "      <td>3</td>\n",
       "      <td>4.455455</td>\n",
       "      <td>{'was_impossible': False}</td>\n",
       "    </tr>\n",
       "    <tr>\n",
       "      <th>4</th>\n",
       "      <td>A1XSPKZ8HHSBX2</td>\n",
       "      <td>5135000011</td>\n",
       "      <td>3</td>\n",
       "      <td>3.729256</td>\n",
       "      <td>{'was_impossible': False}</td>\n",
       "    </tr>\n",
       "  </tbody>\n",
       "</table>\n",
       "</div>"
      ],
      "text/plain": [
       "              uid         iid  r_ui       est                    details\n",
       "0  A1XSPKZ8HHSBX2  073530498X     3  4.551520  {'was_impossible': False}\n",
       "1  A1XSPKZ8HHSBX2  1934148644     3  4.474340  {'was_impossible': False}\n",
       "2  A1XSPKZ8HHSBX2  1934148423     3  4.019030  {'was_impossible': False}\n",
       "3  A1XSPKZ8HHSBX2  1934148075     3  4.455455  {'was_impossible': False}\n",
       "4  A1XSPKZ8HHSBX2  5135000011     3  3.729256  {'was_impossible': False}"
      ]
     },
     "execution_count": 10,
     "metadata": {},
     "output_type": "execute_result"
    }
   ],
   "source": [
    "items = ratings[\"asin\"].unique()\n",
    "test = [['A1XSPKZ8HHSBX2', iid, 3] for iid in items]\n",
    "predictions = model.test(test)\n",
    "pred = pd.DataFrame(predictions)\n",
    "pred.head()"
   ]
  },
  {
   "cell_type": "code",
   "execution_count": 11,
   "id": "75387112",
   "metadata": {},
   "outputs": [],
   "source": [
    "def get_top_n(predictions, n=10):\n",
    "    # Create a dictionary to store recommendations for each user\n",
    "    top_n = defaultdict(list)\n",
    "\n",
    "    # Group the predictions by user ID\n",
    "    for user_id, item_id, true_rating, estimated_rating, _ in predictions:\n",
    "        top_n[user_id].append((item_id, estimated_rating))\n",
    "\n",
    "    # Sort the items for each user and retrieve the top-N recommendations\n",
    "    for user_id, user_ratings in top_n.items():\n",
    "        user_ratings.sort(key=lambda x: x[1], reverse=True)\n",
    "        top_n[user_id] = user_ratings[:n]\n",
    "    print()\n",
    "    print(\"*\"*100)\n",
    "    return top_n"
   ]
  },
  {
   "cell_type": "code",
   "execution_count": 12,
   "id": "89e11d90",
   "metadata": {},
   "outputs": [
    {
     "name": "stdout",
     "output_type": "stream",
     "text": [
      "\n",
      "****************************************************************************************************\n"
     ]
    },
    {
     "data": {
      "text/plain": [
       "defaultdict(list,\n",
       "            {'A1XSPKZ8HHSBX2': [('B000053HH5', 5),\n",
       "              ('B00009R90W', 5),\n",
       "              ('B0000DYV9N', 5),\n",
       "              ('B0002E3WIQ', 5),\n",
       "              ('B0002I6Z72', 5),\n",
       "              ('B000I1X3W8', 5),\n",
       "              ('B000VR5YA8', 5),\n",
       "              ('B000VRV6LY', 5),\n",
       "              ('B0011NPHWQ', 5),\n",
       "              ('B0015DPJ5W', 5)]})"
      ]
     },
     "execution_count": 12,
     "metadata": {},
     "output_type": "execute_result"
    }
   ],
   "source": [
    "top_n = get_top_n(predictions, n=10)\n",
    "top_n"
   ]
  },
  {
   "cell_type": "code",
   "execution_count": 13,
   "id": "6b7e5073",
   "metadata": {},
   "outputs": [
    {
     "name": "stdout",
     "output_type": "stream",
     "text": [
      "Top 10 recommendations for user 'A1XSPKZ8HHSBX2':\n",
      "- Item ID: B000053HH5, Estimated Rating: 5\n",
      "- Item ID: B00009R90W, Estimated Rating: 5\n",
      "- Item ID: B0000DYV9N, Estimated Rating: 5\n",
      "- Item ID: B0002E3WIQ, Estimated Rating: 5\n",
      "- Item ID: B0002I6Z72, Estimated Rating: 5\n",
      "- Item ID: B000I1X3W8, Estimated Rating: 5\n",
      "- Item ID: B000VR5YA8, Estimated Rating: 5\n",
      "- Item ID: B000VRV6LY, Estimated Rating: 5\n",
      "- Item ID: B0011NPHWQ, Estimated Rating: 5\n",
      "- Item ID: B0015DPJ5W, Estimated Rating: 5\n"
     ]
    }
   ],
   "source": [
    "user_id = \"A1XSPKZ8HHSBX2\"\n",
    "recommendations = top_n[user_id]\n",
    "print(\"Top 10 recommendations for user '{}':\".format(user_id))\n",
    "for item_id, rating in recommendations:\n",
    "    print(f\"- Item ID: {item_id}, Estimated Rating: {rating}\")"
   ]
  },
  {
   "cell_type": "code",
   "execution_count": null,
   "id": "09b0fac1",
   "metadata": {},
   "outputs": [],
   "source": []
  }
 ],
 "metadata": {
  "kernelspec": {
   "display_name": "Python 3 (ipykernel)",
   "language": "python",
   "name": "python3"
  },
  "language_info": {
   "codemirror_mode": {
    "name": "ipython",
    "version": 3
   },
   "file_extension": ".py",
   "mimetype": "text/x-python",
   "name": "python",
   "nbconvert_exporter": "python",
   "pygments_lexer": "ipython3",
   "version": "3.11.5"
  }
 },
 "nbformat": 4,
 "nbformat_minor": 5
}
